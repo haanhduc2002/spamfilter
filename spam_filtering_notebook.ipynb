{
 "cells": [
  {
   "cell_type": "code",
   "execution_count": 39,
   "metadata": {},
   "outputs": [
    {
     "name": "stderr",
     "output_type": "stream",
     "text": [
      "[nltk_data] Downloading package stopwords to\n",
      "[nltk_data]     C:\\Users\\haanh\\AppData\\Roaming\\nltk_data...\n",
      "[nltk_data]   Package stopwords is already up-to-date!\n",
      "[nltk_data] Downloading package punkt to\n",
      "[nltk_data]     C:\\Users\\haanh\\AppData\\Roaming\\nltk_data...\n",
      "[nltk_data]   Package punkt is already up-to-date!\n",
      "[nltk_data] Downloading package wordnet to\n",
      "[nltk_data]     C:\\Users\\haanh\\AppData\\Roaming\\nltk_data...\n",
      "[nltk_data]   Package wordnet is already up-to-date!\n",
      "[nltk_data] Downloading package omw-1.4 to\n",
      "[nltk_data]     C:\\Users\\haanh\\AppData\\Roaming\\nltk_data...\n",
      "[nltk_data]   Package omw-1.4 is already up-to-date!\n"
     ]
    }
   ],
   "source": [
    "#import libarries needed for this notbook\n",
    "import numpy as np\n",
    "import pandas as pd\n",
    "\n",
    "\n",
    "import matplotlib.pyplot as plt\n",
    "\n",
    "import nltk\n",
    "nltk.download('stopwords')\n",
    "nltk.download('punkt')\n",
    "nltk.download('wordnet')\n",
    "nltk.download('omw-1.4')\n",
    "from nltk.stem import WordNetLemmatizer\n",
    "from nltk.tokenize import word_tokenize\n",
    "from nltk.corpus import stopwords\n",
    "import string\n",
    "\n",
    "from collections import Counter\n",
    "from sklearn.model_selection import train_test_split\n",
    "from sklearn.feature_extraction.text import CountVectorizer\n",
    "from sklearn import svm\n",
    "from sklearn.svm import SVC\n",
    "from sklearn.metrics import classification_report, confusion_matrix, accuracy_score, ConfusionMatrixDisplay\n",
    "\n",
    "import pickle\n"
   ]
  },
  {
   "cell_type": "markdown",
   "metadata": {},
   "source": [
    "Import spam dataset from Kaggle (spam.csv) \n",
    "Link to dataset: https://www.kaggle.com/datasets/mfaisalqureshi/spam-email"
   ]
  },
  {
   "cell_type": "code",
   "execution_count": 10,
   "metadata": {},
   "outputs": [],
   "source": [
    "#import the dataset to notebook\n",
    "spam_dataset = pd.read_csv('spam.csv')"
   ]
  },
  {
   "cell_type": "code",
   "execution_count": 11,
   "metadata": {},
   "outputs": [
    {
     "name": "stdout",
     "output_type": "stream",
     "text": [
      "<class 'pandas.core.frame.DataFrame'>\n",
      "RangeIndex: 5572 entries, 0 to 5571\n",
      "Data columns (total 2 columns):\n",
      " #   Column    Non-Null Count  Dtype \n",
      "---  ------    --------------  ----- \n",
      " 0   Category  5572 non-null   object\n",
      " 1   Message   5572 non-null   object\n",
      "dtypes: object(2)\n",
      "memory usage: 87.2+ KB\n"
     ]
    }
   ],
   "source": [
    "#inspect the dataset\n",
    "spam_dataset.info()"
   ]
  },
  {
   "cell_type": "code",
   "execution_count": 12,
   "metadata": {},
   "outputs": [
    {
     "data": {
      "text/html": [
       "<div>\n",
       "<style scoped>\n",
       "    .dataframe tbody tr th:only-of-type {\n",
       "        vertical-align: middle;\n",
       "    }\n",
       "\n",
       "    .dataframe tbody tr th {\n",
       "        vertical-align: top;\n",
       "    }\n",
       "\n",
       "    .dataframe thead th {\n",
       "        text-align: right;\n",
       "    }\n",
       "</style>\n",
       "<table border=\"1\" class=\"dataframe\">\n",
       "  <thead>\n",
       "    <tr style=\"text-align: right;\">\n",
       "      <th></th>\n",
       "      <th>Category</th>\n",
       "      <th>Message</th>\n",
       "    </tr>\n",
       "  </thead>\n",
       "  <tbody>\n",
       "    <tr>\n",
       "      <th>0</th>\n",
       "      <td>ham</td>\n",
       "      <td>Go until jurong point, crazy.. Available only ...</td>\n",
       "    </tr>\n",
       "    <tr>\n",
       "      <th>1</th>\n",
       "      <td>ham</td>\n",
       "      <td>Ok lar... Joking wif u oni...</td>\n",
       "    </tr>\n",
       "    <tr>\n",
       "      <th>2</th>\n",
       "      <td>spam</td>\n",
       "      <td>Free entry in 2 a wkly comp to win FA Cup fina...</td>\n",
       "    </tr>\n",
       "    <tr>\n",
       "      <th>3</th>\n",
       "      <td>ham</td>\n",
       "      <td>U dun say so early hor... U c already then say...</td>\n",
       "    </tr>\n",
       "    <tr>\n",
       "      <th>4</th>\n",
       "      <td>ham</td>\n",
       "      <td>Nah I don't think he goes to usf, he lives aro...</td>\n",
       "    </tr>\n",
       "    <tr>\n",
       "      <th>5</th>\n",
       "      <td>spam</td>\n",
       "      <td>FreeMsg Hey there darling it's been 3 week's n...</td>\n",
       "    </tr>\n",
       "    <tr>\n",
       "      <th>6</th>\n",
       "      <td>ham</td>\n",
       "      <td>Even my brother is not like to speak with me. ...</td>\n",
       "    </tr>\n",
       "    <tr>\n",
       "      <th>7</th>\n",
       "      <td>ham</td>\n",
       "      <td>As per your request 'Melle Melle (Oru Minnamin...</td>\n",
       "    </tr>\n",
       "    <tr>\n",
       "      <th>8</th>\n",
       "      <td>spam</td>\n",
       "      <td>WINNER!! As a valued network customer you have...</td>\n",
       "    </tr>\n",
       "    <tr>\n",
       "      <th>9</th>\n",
       "      <td>spam</td>\n",
       "      <td>Had your mobile 11 months or more? U R entitle...</td>\n",
       "    </tr>\n",
       "  </tbody>\n",
       "</table>\n",
       "</div>"
      ],
      "text/plain": [
       "  Category                                            Message\n",
       "0      ham  Go until jurong point, crazy.. Available only ...\n",
       "1      ham                      Ok lar... Joking wif u oni...\n",
       "2     spam  Free entry in 2 a wkly comp to win FA Cup fina...\n",
       "3      ham  U dun say so early hor... U c already then say...\n",
       "4      ham  Nah I don't think he goes to usf, he lives aro...\n",
       "5     spam  FreeMsg Hey there darling it's been 3 week's n...\n",
       "6      ham  Even my brother is not like to speak with me. ...\n",
       "7      ham  As per your request 'Melle Melle (Oru Minnamin...\n",
       "8     spam  WINNER!! As a valued network customer you have...\n",
       "9     spam  Had your mobile 11 months or more? U R entitle..."
      ]
     },
     "execution_count": 12,
     "metadata": {},
     "output_type": "execute_result"
    }
   ],
   "source": [
    "#print the first 10 lines in the dataset\n",
    "spam_dataset.head(10)"
   ]
  },
  {
   "cell_type": "code",
   "execution_count": 13,
   "metadata": {},
   "outputs": [
    {
     "data": {
      "text/plain": [
       "(5157, 2)"
      ]
     },
     "execution_count": 13,
     "metadata": {},
     "output_type": "execute_result"
    }
   ],
   "source": [
    "#remove duplicated tuples\n",
    "spam_dataset.drop_duplicates(inplace= True)\n",
    "#check the dataset of the removing duplicates\n",
    "spam_dataset.shape"
   ]
  },
  {
   "cell_type": "markdown",
   "metadata": {},
   "source": [
    "Data exploration: \n",
    "- What is the number of spam and ham (non-spam) messages?\n",
    "- What are the most frequent words in both categories?"
   ]
  },
  {
   "cell_type": "code",
   "execution_count": 28,
   "metadata": {},
   "outputs": [
    {
     "name": "stdout",
     "output_type": "stream",
     "text": [
      "Category\n",
      "ham     4516\n",
      "spam     641\n",
      "dtype: int64\n"
     ]
    },
    {
     "data": {
      "image/png": "[encoded data removed]",
      "text/plain": [
       "<Figure size 432x288 with 1 Axes>"
      ]
     },
     "metadata": {
      "needs_background": "light"
     },
     "output_type": "display_data"
    }
   ],
   "source": [
    "count_Class = spam_dataset.value_counts(spam_dataset[\"Category\"], sort = True)\n",
    "print(count_Class)\n",
    "count_Class.plot(kind = 'bar', color =[\"green\", \"red\"])\n",
    "plt.title('Number of Ham and Spam')\n",
    "plt.show()"
   ]
  },
  {
   "cell_type": "code",
   "execution_count": 27,
   "metadata": {},
   "outputs": [
    {
     "data": {
      "image/png": "[encoded data removed]",
      "text/plain": [
       "<Figure size 432x288 with 1 Axes>"
      ]
     },
     "metadata": {},
     "output_type": "display_data"
    }
   ],
   "source": [
    "count_Class.plot(kind = 'pie', autopct='%1.0f%%',  colors =[\"green\", \"red\"])\n",
    "plt.title('Ham and Spam by proportion')\n",
    "plt.ylabel('')\n",
    "plt.show()"
   ]
  },
  {
   "cell_type": "code",
   "execution_count": 29,
   "metadata": {},
   "outputs": [],
   "source": [
    "#preparing text data\n",
    "def handle_message(message): #missing Lemmatization process\n",
    "  # Step 1: lemmatization\n",
    "  lemmatizer = WordNetLemmatizer()\n",
    "  word_list = nltk.word_tokenize(message)\n",
    "  message1 = ' '.join([lemmatizer.lemmatize(w) for w in word_list])\n",
    "  # Step 2: remove puntuation \n",
    "  message2 = [char for char in message1 if char not in string.punctuation]\n",
    "  message2 = ''.join(message2)\n",
    "  # Step 3: remove stop word\n",
    "  message3 = [word for word in message2.split() if word.lower() not in stopwords.words('english')]\n",
    "  result = ' '.join(message3)\n",
    "  return result"
   ]
  },
  {
   "cell_type": "code",
   "execution_count": 31,
   "metadata": {},
   "outputs": [],
   "source": [
    "#prepare the data for visualization of text\n",
    "from collections import Counter\n",
    "ham_message = (handle_message(\" \".join(spam_dataset[spam_dataset['Category']=='ham'][\"Message\"]))).lower() # có thể cần dùng lower() \n",
    "count1 = Counter(ham_message.split()).most_common(20)\n",
    "df1 = pd.DataFrame.from_dict(count1)\n",
    "df1 = df1.rename(columns={0: \"Words in non-spam\", 1 : \"Count\"})\n",
    "\n",
    "spam_message = (handle_message(\" \".join(spam_dataset[spam_dataset['Category']=='spam'][\"Message\"]))).lower()\n",
    "count2 = Counter(spam_message.split()).most_common(20)\n",
    "df2 = pd.DataFrame.from_dict(count2)\n",
    "df2 = df2.rename(columns={0: \"Words in spam\", 1 : \"Count\"})"
   ]
  },
  {
   "cell_type": "code",
   "execution_count": 32,
   "metadata": {},
   "outputs": [
    {
     "data": {
      "image/png": "[encoded data removed]",
      "text/plain": [
       "<Figure size 432x288 with 1 Axes>"
      ]
     },
     "metadata": {
      "needs_background": "light"
     },
     "output_type": "display_data"
    }
   ],
   "source": [
    "df1.plot.bar(legend = False, color = 'green')\n",
    "y_pos = np.arange(len(df1[\"Words in non-spam\"]))\n",
    "plt.xticks(y_pos, df1[\"Words in non-spam\"])\n",
    "plt.title('More frequent words in non-spam messages')\n",
    "plt.xlabel('Words')\n",
    "plt.ylabel('Count')\n",
    "plt.show()"
   ]
  },
  {
   "cell_type": "code",
   "execution_count": 33,
   "metadata": {},
   "outputs": [
    {
     "data": {
      "image/png": "[encoded data removed]",
      "text/plain": [
       "<Figure size 432x288 with 1 Axes>"
      ]
     },
     "metadata": {
      "needs_background": "light"
     },
     "output_type": "display_data"
    }
   ],
   "source": [
    "df2.plot.bar(legend = False, color = 'red')\n",
    "y_pos = np.arange(len(df2[\"Words in spam\"]))\n",
    "plt.xticks(y_pos, df2[\"Words in spam\"])\n",
    "plt.title('More frequent words in spam messages')\n",
    "plt.xlabel('Words')\n",
    "plt.ylabel('Count')\n",
    "plt.show()"
   ]
  },
  {
   "cell_type": "code",
   "execution_count": 34,
   "metadata": {},
   "outputs": [],
   "source": [
    "#partitioning the dataset\n",
    "from sklearn.model_selection import  train_test_split\n",
    "x = spam_dataset['Message'].apply(handle_message)\n",
    "y = spam_dataset[\"Category\"].values\n",
    "x_train, x_test, y_train, y_test = train_test_split(x,y,test_size= 0.3)"
   ]
  },
  {
   "cell_type": "code",
   "execution_count": 35,
   "metadata": {},
   "outputs": [
    {
     "name": "stdout",
     "output_type": "stream",
     "text": [
      "Training accuracy: 0.9950124688279302\n",
      "Training accuracy: 0.9741602067183462\n"
     ]
    }
   ],
   "source": [
    "cv = CountVectorizer()\n",
    "train_feature = cv.fit_transform(x_train)\n",
    "test_feature = cv.transform(x_test)\n",
    "model = svm.SVC()\n",
    "model.fit(train_feature,y_train)\n",
    "print('Training accuracy:', model.score(train_feature,y_train))\n",
    "print('Training accuracy:', model.score(test_feature,y_test))"
   ]
  },
  {
   "cell_type": "code",
   "execution_count": 36,
   "metadata": {},
   "outputs": [
    {
     "name": "stdout",
     "output_type": "stream",
     "text": [
      "Accuracy: 0.9950124688279302\n",
      "\n",
      "Classification report: \n",
      "\n",
      "              precision    recall  f1-score   support\n",
      "\n",
      "         ham       0.99      1.00      1.00      3154\n",
      "        spam       1.00      0.96      0.98       455\n",
      "\n",
      "    accuracy                           1.00      3609\n",
      "   macro avg       1.00      0.98      0.99      3609\n",
      "weighted avg       1.00      1.00      0.99      3609\n",
      "\n",
      "Confusion matrix (0 is ham and 1 is spam): \n",
      "\n"
     ]
    },
    {
     "data": {
      "image/png": "[encoded data removed]",
      "text/plain": [
       "<Figure size 432x288 with 2 Axes>"
      ]
     },
     "metadata": {
      "needs_background": "light"
     },
     "output_type": "display_data"
    }
   ],
   "source": [
    "#Train detail\n",
    "prediction = model.predict(train_feature)\n",
    "print(\"Accuracy: {}\".format(model.score(train_feature,y_train)))\n",
    "print('\\nClassification report: \\n')\n",
    "print(classification_report(y_train, prediction))\n",
    "print('Confusion matrix (0 is ham and 1 is spam): \\n')\n",
    "confusion_matrix_plot = ConfusionMatrixDisplay(confusion_matrix(prediction,y_train))\n",
    "confusion_matrix_plot.plot()\n",
    "plt.show()"
   ]
  },
  {
   "cell_type": "code",
   "execution_count": 37,
   "metadata": {},
   "outputs": [
    {
     "name": "stdout",
     "output_type": "stream",
     "text": [
      "Accuracy: 0.9741602067183462\n",
      "\n",
      "Classification report: \n",
      "\n",
      "              precision    recall  f1-score   support\n",
      "\n",
      "         ham       0.97      1.00      0.99      1362\n",
      "        spam       1.00      0.78      0.88       186\n",
      "\n",
      "    accuracy                           0.97      1548\n",
      "   macro avg       0.99      0.89      0.93      1548\n",
      "weighted avg       0.97      0.97      0.97      1548\n",
      "\n",
      "Confusion matrix (0 is ham and 1 is spam): \n",
      "\n"
     ]
    },
    {
     "data": {
      "image/png": "[encoded data removed]",
      "text/plain": [
       "<Figure size 432x288 with 2 Axes>"
      ]
     },
     "metadata": {
      "needs_background": "light"
     },
     "output_type": "display_data"
    }
   ],
   "source": [
    "#Test detail\n",
    "#Train detail\n",
    "prediction = model.predict(test_feature)\n",
    "print(\"Accuracy: {}\".format(model.score(test_feature,y_test)))\n",
    "print('\\nClassification report: \\n')\n",
    "print(classification_report(y_test, prediction))\n",
    "print('Confusion matrix (0 is ham and 1 is spam): \\n')\n",
    "confusion_matrix_plot = ConfusionMatrixDisplay(confusion_matrix(prediction,y_test))\n",
    "confusion_matrix_plot.plot()\n",
    "plt.show()"
   ]
  },
  {
   "cell_type": "code",
   "execution_count": 38,
   "metadata": {},
   "outputs": [],
   "source": [
    "#export models\n",
    "filename = \"saved_model.pkl\"\n",
    "with open(filename, 'wb') as fout:\n",
    "  pickle.dump((model, cv), fout)"
   ]
  }
 ],
 "metadata": {
  "kernelspec": {
   "display_name": "Python 3.10.5 64-bit",
   "language": "python",
   "name": "python3"
  },
  "language_info": {
   "codemirror_mode": {
    "name": "ipython",
    "version": 3
   },
   "file_extension": ".py",
   "mimetype": "text/x-python",
   "name": "python",
   "nbconvert_exporter": "python",
   "pygments_lexer": "ipython3",
   "version": "3.10.5"
  },
  "orig_nbformat": 4,
  "vscode": {
   "interpreter": {
    "hash": "eb99c2da93406f917d3d1b64f86d44cbd37abd08f3a138938a6087c4d5ad1267"
   }
  }
 },
 "nbformat": 4,
 "nbformat_minor": 2
}
